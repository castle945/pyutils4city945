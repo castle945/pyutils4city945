{
 "cells": [
  {
   "cell_type": "markdown",
   "metadata": {},
   "source": [
    "### API Examples"
   ]
  },
  {
   "cell_type": "markdown",
   "metadata": {},
   "source": [
    "#### pu4c.common.utils.TestDataDB"
   ]
  },
  {
   "cell_type": "code",
   "execution_count": 3,
   "metadata": {},
   "outputs": [
    {
     "name": "stdout",
     "output_type": "stream",
     "text": [
      "{}\n",
      "update test/arr1, data at /workspace/files/blob/pu4c/det3d_test_data.pkl\n",
      "[1. 1. 1. 1. 1.]\n",
      "{'test/arr1': 'det3d_test_data.pkl'}\n",
      "create new file det3d_test_data-241116.pkl\n",
      "{'test/arr1': 'det3d_test_data-241116.pkl', 'infos': 'det3d_test_data-241116.pkl'}\n",
      "{'test/arr1': 'det3d_test_data-241116.pkl', 'infos': 'det3d_test_data-241116.pkl', 'arr2': 'det3d_test_data.pkl'}\n",
      "remove infos, data at /workspace/files/blob/pu4c/det3d_test_data-241116.pkl\n",
      "{'test/arr1': 'det3d_test_data-241116.pkl', 'arr2': 'det3d_test_data.pkl'}\n"
     ]
    }
   ],
   "source": [
    "import numpy as np\n",
    "from pu4c.common.utils import TestDataDB, read_pickle\n",
    "test_data = TestDataDB(dbname=\"test\")\n",
    "test_data.filesize = 1 * 1024\n",
    "print(test_data.keys_dict)\n",
    "\n",
    "test_data.add(\"test/arr1\", np.zeros((5,)))\n",
    "test_data.update(\"test/arr1\", np.ones((5,)))\n",
    "print(test_data.get(\"test/arr1\"))\n",
    "print(test_data.keys_dict)\n",
    "\n",
    "infos = read_pickle(\"/workspace/files/blob/Det3DTrans/OpenPCDetTrans/data/kitti/kitti_infos_train.pkl\")\n",
    "test_data.add(\"infos\", infos)\n",
    "print(test_data.keys_dict)\n",
    "\n",
    "test_data.add(\"arr2\", np.ones((5,))*2)\n",
    "print(test_data.keys_dict)\n",
    "\n",
    "test_data.remove(\"infos\")\n",
    "print(test_data.keys_dict)"
   ]
  }
 ],
 "metadata": {
  "kernelspec": {
   "display_name": "base",
   "language": "python",
   "name": "python3"
  },
  "language_info": {
   "codemirror_mode": {
    "name": "ipython",
    "version": 3
   },
   "file_extension": ".py",
   "mimetype": "text/x-python",
   "name": "python",
   "nbconvert_exporter": "python",
   "pygments_lexer": "ipython3",
   "version": "3.10.13"
  }
 },
 "nbformat": 4,
 "nbformat_minor": 2
}
