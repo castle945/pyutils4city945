{
 "cells": [
  {
   "cell_type": "markdown",
   "metadata": {},
   "source": [
    "### API Examples"
   ]
  },
  {
   "cell_type": "markdown",
   "metadata": {},
   "source": [
    "#### pu4c.common.app.deep_equal"
   ]
  },
  {
   "cell_type": "code",
   "execution_count": 1,
   "metadata": {},
   "outputs": [
    {
     "name": "stdout",
     "output_type": "stream",
     "text": [
      "True\n",
      "reason: ['image']['image_2']['l2p_mat']: 数组值在索引 (0, 0) 处不相等\n",
      "False\n",
      "True\n",
      "reason: ['a']['b'][1][1]: 值不相等\n",
      "False\n"
     ]
    }
   ],
   "source": [
    "import pu4c\n",
    "import numpy as np\n",
    "import copy\n",
    "from pu4c.common.app import deep_equal\n",
    "\n",
    "infos = pu4c.common.utils.read_pickle('/workspace/files/blob/pu4c/kitti_vis_infos_val.pkl')\n",
    "info, info1, info2 = copy.deepcopy(infos[0]), copy.deepcopy(infos[0]), copy.deepcopy(infos[0])\n",
    "# info2['lidar']['frame_id'] = 'xxxxx'                       # modify str\n",
    "info2['image']['image_2']['l2p_mat'][0] = np.zeros((1, 4)) # modify ndarray\n",
    "# info2['annos']['name'][0] = 'xxxx'                           # modify str in ndarray\n",
    "print(deep_equal(info, info1, verbose=True))\n",
    "print(deep_equal(info, info2, verbose=True))\n",
    "print(deep_equal(info, info2, ignore_keys=['l2p_mat'], verbose=True))\n",
    "print(deep_equal({'a':{'b': [[1,2], [3,4]]}}, {'a':{'b': [[1,2], [3,5]]}}, verbose=True))\n"
   ]
  },
  {
   "cell_type": "markdown",
   "metadata": {},
   "source": [
    "#### pu4c.common.utils.TestDataDB"
   ]
  },
  {
   "cell_type": "code",
   "execution_count": 1,
   "metadata": {},
   "outputs": [
    {
     "name": "stdout",
     "output_type": "stream",
     "text": [
      "update test/arr1, data at /workspace/codevault/Misc/pyutils4city945/test/test.pkl\n",
      "[1. 1. 1. 1. 1.]\n",
      "{'test/arr1': 'test.pkl'}\n",
      "create new file test-241215.pkl\n",
      "{'test/arr1': 'test-241215.pkl', 'test/arr2': 'test-241215.pkl'}\n",
      "rename test/arr1 to test/arr3, data at /workspace/codevault/Misc/pyutils4city945/test/test-241215.pkl\n",
      "{'test/arr2': 'test-241215.pkl', 'test/arr3': 'test-241215.pkl'}\n",
      "remove test/arr3, data at /workspace/codevault/Misc/pyutils4city945/test/test-241215.pkl\n",
      "{'test/arr2': 'test-241215.pkl'}\n",
      "{'test/arr2': 'test-241215.pkl', 'list2/int': 'test.pkl', 'list2/float': 'test.pkl'}\n",
      "remove file /workspace/codevault/Misc/pyutils4city945/test/test-241215.pkl successed\n"
     ]
    }
   ],
   "source": [
    "import pu4c\n",
    "import numpy as np\n",
    "import os\n",
    "\n",
    "test_data = pu4c.common.utils.TestDataDB(dbname=\"test\", root=os.getcwd())\n",
    "test_data.filesize = 1 * 1024\n",
    "\n",
    "test_data.set(\"test/arr1\", np.zeros((5,)))\n",
    "test_data.set(\"test/arr1\", np.ones((5,)))\n",
    "print(test_data.get(\"test/arr1\"))\n",
    "print(test_data.keys_dict)\n",
    "\n",
    "test_data.set(\"test/arr2\", np.random.randn(1000, 1000))\n",
    "print(test_data.keys_dict)\n",
    "\n",
    "test_data.rename(\"test/arr1\", \"test/arr3\")\n",
    "print(test_data.keys_dict)\n",
    "\n",
    "test_data.remove(\"test/arr3\")\n",
    "print(test_data.keys_dict)\n",
    "\n",
    "test_data.set(\"list2/int\", [1, 2])\n",
    "test_data.set(\"list2/float\", [3.0, 4.0])\n",
    "print(test_data.keys_dict)\n",
    "\n",
    "test_data.keys_dict.pop(\"test/arr2\")\n",
    "pu4c.common.utils.write_json(test_data.keys_path, test_data.keys_dict, indent=4)\n",
    "\n",
    "test_data.gc()\n",
    "\n",
    "!rm -f test.keys.json test*.pkl*"
   ]
  }
 ],
 "metadata": {
  "kernelspec": {
   "display_name": "base",
   "language": "python",
   "name": "python3"
  },
  "language_info": {
   "codemirror_mode": {
    "name": "ipython",
    "version": 3
   },
   "file_extension": ".py",
   "mimetype": "text/x-python",
   "name": "python",
   "nbconvert_exporter": "python",
   "pygments_lexer": "ipython3",
   "version": "3.10.13"
  }
 },
 "nbformat": 4,
 "nbformat_minor": 2
}
